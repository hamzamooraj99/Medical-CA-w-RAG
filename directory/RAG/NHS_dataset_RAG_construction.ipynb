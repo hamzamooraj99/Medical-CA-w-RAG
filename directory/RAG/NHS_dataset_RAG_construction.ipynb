{
 "cells": [
  {
   "cell_type": "markdown",
   "metadata": {},
   "source": [
    "# Import Libraries"
   ]
  },
  {
   "cell_type": "code",
   "execution_count": null,
   "metadata": {},
   "outputs": [],
   "source": [
    "import json\n",
    "import torch\n",
    "import numpy as np\n",
    "from tqdm import tqdm\n",
    "import faiss\n",
    "from sentence_transformers import SentenceTransformer\n",
    "import os"
   ]
  },
  {
   "cell_type": "markdown",
   "metadata": {},
   "source": [
    "# Load Sentence Transformer"
   ]
  },
  {
   "cell_type": "code",
   "execution_count": null,
   "metadata": {},
   "outputs": [],
   "source": [
    "model_name = \"sentence-transformers/all-MiniLM-L6-v2\"\n",
    "model = SentenceTransformer(model_name)"
   ]
  },
  {
   "cell_type": "markdown",
   "metadata": {},
   "source": [
    "# Load NHS Data"
   ]
  },
  {
   "cell_type": "code",
   "execution_count": null,
   "metadata": {},
   "outputs": [],
   "source": [
    "def load_text_data(json_file):\n",
    "    with open(json_file, \"r\", encoding=\"utf-8\") as f:\n",
    "        data = json.load(f)\n",
    "    \n",
    "    texts = []\n",
    "    for item in data:\n",
    "        disease = item.get(\"Disease\", \"\")\n",
    "        symptoms = \" \".join(item.get(\"Symptoms\", []))\n",
    "        treatments = \" \".join(item.get(\"Treatments\", []))\n",
    "        combined_text = f\"Disease: {disease}\\nSymptoms: {symptoms}\\nTreatments: {treatments}\"\n",
    "        texts.append(combined_text)\n",
    "    return texts"
   ]
  },
  {
   "cell_type": "markdown",
   "metadata": {},
   "source": [
    "# Get Embeddings in Batches"
   ]
  },
  {
   "cell_type": "code",
   "execution_count": null,
   "metadata": {},
   "outputs": [],
   "source": [
    "def get_batch_embeddings(texts, batch_size=16):\n",
    "    embeddings = []\n",
    "    for i in tqdm(range(0, len(texts), batch_size), desc=\"Computing embeddings\"):\n",
    "        batch = texts[i : i + batch_size]\n",
    "        batch_embeddings = model.encode(batch, convert_to_numpy=True)\n",
    "        embeddings.extend(batch_embeddings)\n",
    "    return np.array(embeddings, dtype=\"float32\")"
   ]
  },
  {
   "cell_type": "markdown",
   "metadata": {},
   "source": [
    "# Build FAISS Index using IVFFlat"
   ]
  },
  {
   "cell_type": "code",
   "execution_count": null,
   "metadata": {},
   "outputs": [],
   "source": [
    "def build_faiss_index(texts):\n",
    "    print(\"\\nComputing text embeddings...\")\n",
    "    embeddings = get_batch_embeddings(texts)\n",
    "\n",
    "    print(\"\\nBuilding FAISS index...\")\n",
    "    dimension = embeddings.shape[1]\n",
    "    quantizer = faiss.IndexFlatL2(dimension)  # Used for clustering\n",
    "    index = faiss.IndexIVFFlat(quantizer, dimension, 100)  # 100 clusters for faster search\n",
    "\n",
    "    index.train(embeddings)  # Train FAISS with embeddings\n",
    "    index.add(embeddings)  # Add embeddings to index\n",
    "    \n",
    "    return index, texts"
   ]
  },
  {
   "cell_type": "markdown",
   "metadata": {},
   "source": [
    "# Save FAISS index and text data"
   ]
  },
  {
   "cell_type": "code",
   "execution_count": null,
   "metadata": {},
   "outputs": [],
   "source": [
    "def save_retrieval_system(index, texts, index_file, texts_file):\n",
    "    print(\"\\nSaving FAISS index and text data...\")\n",
    "    faiss.write_index(index, index_file)\n",
    "\n",
    "    with open(texts_file, \"w\", encoding=\"utf-8\") as f:\n",
    "        json.dump(texts, f, ensure_ascii=False, indent=4)\n",
    "\n",
    "    print(\"✅ FAISS retrieval system built and saved successfully!\")"
   ]
  },
  {
   "cell_type": "markdown",
   "metadata": {},
   "source": [
    "# Search FAISS"
   ]
  },
  {
   "cell_type": "code",
   "execution_count": null,
   "metadata": {},
   "outputs": [],
   "source": [
    "def search_faiss(query, index, texts, k=5):\n",
    "    query_embedding = model.encode([query], convert_to_numpy=True).astype(\"float32\")\n",
    "    distances, indices = index.search(query_embedding, k)\n",
    "    \n",
    "    results = [(texts[i], distances[0][j]) for j, i in enumerate(indices[0])]\n",
    "    return results"
   ]
  },
  {
   "cell_type": "markdown",
   "metadata": {},
   "source": [
    "# Build and save"
   ]
  },
  {
   "cell_type": "code",
   "execution_count": null,
   "metadata": {},
   "outputs": [],
   "source": [
    "def build_and_save_text_retrieval_system(json_file, index_file, texts_file):\n",
    "    texts = load_text_data(json_file)\n",
    "    index, texts = build_faiss_index(texts)\n",
    "    save_retrieval_system(index, texts, index_file, texts_file)"
   ]
  },
  {
   "cell_type": "markdown",
   "metadata": {},
   "source": [
    "# MAIN"
   ]
  },
  {
   "cell_type": "code",
   "execution_count": null,
   "metadata": {},
   "outputs": [],
   "source": [
    "text_data_file = r'..\\..\\dataset\\nhsInform\\NHS_Data.json'\n",
    "index_file = r'..\\..\\dataset\\nhsInform\\faiss_index.bin'\n",
    "texts_file = r'..\\..\\dataset\\nhsInform\\texts.json'\n",
    "\n",
    "build_and_save_text_retrieval_system(text_data_file, index_file, texts_file)"
   ]
  },
  {
   "cell_type": "markdown",
   "metadata": {},
   "source": [
    "# TEST"
   ]
  },
  {
   "cell_type": "code",
   "execution_count": null,
   "metadata": {},
   "outputs": [],
   "source": [
    "index = faiss.read_index(index_file)\n",
    "with open(texts_file, \"r\", encoding=\"utf-8\") as f:\n",
    "    texts = json.load(f)\n",
    "\n",
    "query = \"What are the symptoms of pneumonia?\"\n",
    "results = search_faiss(query, index, texts, k=3)\n",
    "\n",
    "print(\"\\n🔍 Search Results:\")\n",
    "for i, (text, score) in enumerate(results):\n",
    "    print(f\"{i+1}. {text} (Score: {score:.4f})\")"
   ]
  },
  {
   "cell_type": "code",
   "execution_count": null,
   "metadata": {},
   "outputs": [],
   "source": [
    "def format_rag_context(results):\n",
    "    \"\"\"Formats the RAG results into a readable context string.\"\"\"\n",
    "    context = \"\\n\".join([f\"Retrieved Info {i+1}: {res[0]}\" for i, res in enumerate(results)])\n",
    "    return context"
   ]
  },
  {
   "cell_type": "code",
   "execution_count": null,
   "metadata": {},
   "outputs": [],
   "source": [
    "print(format_rag_context(results))"
   ]
  }
 ],
 "metadata": {
  "kernelspec": {
   "display_name": "unsloth_env",
   "language": "python",
   "name": "python3"
  },
  "language_info": {
   "codemirror_mode": {
    "name": "ipython",
    "version": 3
   },
   "file_extension": ".py",
   "mimetype": "text/x-python",
   "name": "python",
   "nbconvert_exporter": "python",
   "pygments_lexer": "ipython3",
   "version": "3.11.11"
  }
 },
 "nbformat": 4,
 "nbformat_minor": 2
}
