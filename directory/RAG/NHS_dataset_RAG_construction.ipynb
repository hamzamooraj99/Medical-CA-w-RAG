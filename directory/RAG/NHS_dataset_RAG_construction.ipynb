{
 "cells": [
  {
   "cell_type": "markdown",
   "metadata": {},
   "source": [
    "# Import Libraries"
   ]
  },
  {
   "cell_type": "code",
   "execution_count": 22,
   "metadata": {},
   "outputs": [],
   "source": [
    "import json\n",
    "import torch\n",
    "import numpy as np\n",
    "from tqdm import tqdm\n",
    "import faiss\n",
    "from sentence_transformers import SentenceTransformer\n",
    "import os"
   ]
  },
  {
   "cell_type": "markdown",
   "metadata": {},
   "source": [
    "# Load Sentence Transformer"
   ]
  },
  {
   "cell_type": "code",
   "execution_count": 12,
   "metadata": {},
   "outputs": [
    {
     "data": {
      "application/vnd.jupyter.widget-view+json": {
       "model_id": "a89a82527a11474eb48c574df53939e2",
       "version_major": 2,
       "version_minor": 0
      },
      "text/plain": [
       "modules.json:   0%|          | 0.00/349 [00:00<?, ?B/s]"
      ]
     },
     "metadata": {},
     "output_type": "display_data"
    },
    {
     "name": "stderr",
     "output_type": "stream",
     "text": [
      "c:\\Users\\hamza\\miniconda3\\envs\\unsloth_env\\Lib\\site-packages\\huggingface_hub\\file_download.py:142: UserWarning: `huggingface_hub` cache-system uses symlinks by default to efficiently store duplicated files but your machine does not support them in C:\\Users\\hamza\\.cache\\huggingface\\hub\\models--sentence-transformers--all-MiniLM-L6-v2. Caching files will still work but in a degraded version that might require more space on your disk. This warning can be disabled by setting the `HF_HUB_DISABLE_SYMLINKS_WARNING` environment variable. For more details, see https://huggingface.co/docs/huggingface_hub/how-to-cache#limitations.\n",
      "To support symlinks on Windows, you either need to activate Developer Mode or to run Python as an administrator. In order to activate developer mode, see this article: https://docs.microsoft.com/en-us/windows/apps/get-started/enable-your-device-for-development\n",
      "  warnings.warn(message)\n"
     ]
    },
    {
     "data": {
      "application/vnd.jupyter.widget-view+json": {
       "model_id": "26953267fe8d44b9a18a33e8bd3f7e52",
       "version_major": 2,
       "version_minor": 0
      },
      "text/plain": [
       "config_sentence_transformers.json:   0%|          | 0.00/116 [00:00<?, ?B/s]"
      ]
     },
     "metadata": {},
     "output_type": "display_data"
    },
    {
     "data": {
      "application/vnd.jupyter.widget-view+json": {
       "model_id": "dbbc5f889289469d913417db6003a6f9",
       "version_major": 2,
       "version_minor": 0
      },
      "text/plain": [
       "README.md:   0%|          | 0.00/10.5k [00:00<?, ?B/s]"
      ]
     },
     "metadata": {},
     "output_type": "display_data"
    },
    {
     "data": {
      "application/vnd.jupyter.widget-view+json": {
       "model_id": "a5976aa32ef4469e9c818ad991e882d0",
       "version_major": 2,
       "version_minor": 0
      },
      "text/plain": [
       "sentence_bert_config.json:   0%|          | 0.00/53.0 [00:00<?, ?B/s]"
      ]
     },
     "metadata": {},
     "output_type": "display_data"
    },
    {
     "data": {
      "application/vnd.jupyter.widget-view+json": {
       "model_id": "08eb84359ccd442a9eb2ea1addabf70e",
       "version_major": 2,
       "version_minor": 0
      },
      "text/plain": [
       "config.json:   0%|          | 0.00/612 [00:00<?, ?B/s]"
      ]
     },
     "metadata": {},
     "output_type": "display_data"
    },
    {
     "data": {
      "application/vnd.jupyter.widget-view+json": {
       "model_id": "940c6af3560e402686ffe8d306719f58",
       "version_major": 2,
       "version_minor": 0
      },
      "text/plain": [
       "model.safetensors:   0%|          | 0.00/90.9M [00:00<?, ?B/s]"
      ]
     },
     "metadata": {},
     "output_type": "display_data"
    },
    {
     "data": {
      "application/vnd.jupyter.widget-view+json": {
       "model_id": "b58c448a762c4659bdcacb9a50d06208",
       "version_major": 2,
       "version_minor": 0
      },
      "text/plain": [
       "tokenizer_config.json:   0%|          | 0.00/350 [00:00<?, ?B/s]"
      ]
     },
     "metadata": {},
     "output_type": "display_data"
    },
    {
     "data": {
      "application/vnd.jupyter.widget-view+json": {
       "model_id": "fb648f4a2d7f4e47a2f6d8421f7b21a6",
       "version_major": 2,
       "version_minor": 0
      },
      "text/plain": [
       "vocab.txt:   0%|          | 0.00/232k [00:00<?, ?B/s]"
      ]
     },
     "metadata": {},
     "output_type": "display_data"
    },
    {
     "data": {
      "application/vnd.jupyter.widget-view+json": {
       "model_id": "caf1b26028fe441ba078f567af2c8c7a",
       "version_major": 2,
       "version_minor": 0
      },
      "text/plain": [
       "tokenizer.json:   0%|          | 0.00/466k [00:00<?, ?B/s]"
      ]
     },
     "metadata": {},
     "output_type": "display_data"
    },
    {
     "data": {
      "application/vnd.jupyter.widget-view+json": {
       "model_id": "7b3f7ef801be44b8a5b99530a59602b8",
       "version_major": 2,
       "version_minor": 0
      },
      "text/plain": [
       "special_tokens_map.json:   0%|          | 0.00/112 [00:00<?, ?B/s]"
      ]
     },
     "metadata": {},
     "output_type": "display_data"
    },
    {
     "data": {
      "application/vnd.jupyter.widget-view+json": {
       "model_id": "07d454ff87694d4eb8ff6c1b66148dec",
       "version_major": 2,
       "version_minor": 0
      },
      "text/plain": [
       "config.json:   0%|          | 0.00/190 [00:00<?, ?B/s]"
      ]
     },
     "metadata": {},
     "output_type": "display_data"
    }
   ],
   "source": [
    "model_name = \"sentence-transformers/all-MiniLM-L6-v2\"\n",
    "model = SentenceTransformer(model_name)"
   ]
  },
  {
   "cell_type": "markdown",
   "metadata": {},
   "source": [
    "# Load NHS Data"
   ]
  },
  {
   "cell_type": "code",
   "execution_count": 13,
   "metadata": {},
   "outputs": [],
   "source": [
    "def load_text_data(json_file):\n",
    "    with open(json_file, \"r\", encoding=\"utf-8\") as f:\n",
    "        data = json.load(f)\n",
    "    \n",
    "    texts = []\n",
    "    for item in data:\n",
    "        # 将 Disease、Symptoms 和 Treatments 组合成一个文本块\n",
    "        disease = item.get(\"Disease\", \"\")\n",
    "        symptoms = \" \".join(item.get(\"Symptoms\", []))\n",
    "        treatments = \" \".join(item.get(\"Treatments\", []))\n",
    "        combined_text = f\"Disease: {disease}\\nSymptoms: {symptoms}\\nTreatments: {treatments}\"\n",
    "        texts.append(combined_text)\n",
    "    return texts"
   ]
  },
  {
   "cell_type": "markdown",
   "metadata": {},
   "source": [
    "# Get Embeddings in Batches"
   ]
  },
  {
   "cell_type": "code",
   "execution_count": 14,
   "metadata": {},
   "outputs": [],
   "source": [
    "def get_batch_embeddings(texts, batch_size=16):\n",
    "    embeddings = []\n",
    "    for i in tqdm(range(0, len(texts), batch_size), desc=\"Computing embeddings\"):\n",
    "        batch = texts[i : i + batch_size]\n",
    "        batch_embeddings = model.encode(batch, convert_to_numpy=True)\n",
    "        embeddings.extend(batch_embeddings)\n",
    "    return np.array(embeddings, dtype=\"float32\")"
   ]
  },
  {
   "cell_type": "markdown",
   "metadata": {},
   "source": [
    "# Build FAISS Index using IVFFlat"
   ]
  },
  {
   "cell_type": "code",
   "execution_count": 15,
   "metadata": {},
   "outputs": [],
   "source": [
    "def build_faiss_index(texts):\n",
    "    print(\"\\nComputing text embeddings...\")\n",
    "    embeddings = get_batch_embeddings(texts)\n",
    "\n",
    "    print(\"\\nBuilding FAISS index...\")\n",
    "    dimension = embeddings.shape[1]\n",
    "    quantizer = faiss.IndexFlatL2(dimension)  # Used for clustering\n",
    "    index = faiss.IndexIVFFlat(quantizer, dimension, 100)  # 100 clusters for faster search\n",
    "\n",
    "    index.train(embeddings)  # Train FAISS with embeddings\n",
    "    index.add(embeddings)  # Add embeddings to index\n",
    "    \n",
    "    return index, texts"
   ]
  },
  {
   "cell_type": "markdown",
   "metadata": {},
   "source": [
    "# Save FAISS index and text data"
   ]
  },
  {
   "cell_type": "code",
   "execution_count": 16,
   "metadata": {},
   "outputs": [],
   "source": [
    "def save_retrieval_system(index, texts, index_file, texts_file):\n",
    "    print(\"\\nSaving FAISS index and text data...\")\n",
    "    faiss.write_index(index, index_file)\n",
    "\n",
    "    with open(texts_file, \"w\", encoding=\"utf-8\") as f:\n",
    "        json.dump(texts, f, ensure_ascii=False, indent=4)\n",
    "\n",
    "    print(\"✅ FAISS retrieval system built and saved successfully!\")"
   ]
  },
  {
   "cell_type": "markdown",
   "metadata": {},
   "source": [
    "# Search FAISS"
   ]
  },
  {
   "cell_type": "code",
   "execution_count": 17,
   "metadata": {},
   "outputs": [],
   "source": [
    "def search_faiss(query, index, texts, k=5):\n",
    "    query_embedding = model.encode([query], convert_to_numpy=True).astype(\"float32\")\n",
    "    distances, indices = index.search(query_embedding, k)\n",
    "    \n",
    "    results = [(texts[i], distances[0][j]) for j, i in enumerate(indices[0])]\n",
    "    return results"
   ]
  },
  {
   "cell_type": "markdown",
   "metadata": {},
   "source": [
    "# Build and save"
   ]
  },
  {
   "cell_type": "code",
   "execution_count": 18,
   "metadata": {},
   "outputs": [],
   "source": [
    "def build_and_save_text_retrieval_system(json_file, index_file, texts_file):\n",
    "    texts = load_text_data(json_file)\n",
    "    index, texts = build_faiss_index(texts)\n",
    "    save_retrieval_system(index, texts, index_file, texts_file)"
   ]
  },
  {
   "cell_type": "markdown",
   "metadata": {},
   "source": [
    "# MAIN"
   ]
  },
  {
   "cell_type": "code",
   "execution_count": 23,
   "metadata": {},
   "outputs": [
    {
     "name": "stdout",
     "output_type": "stream",
     "text": [
      "\n",
      "Computing text embeddings...\n"
     ]
    },
    {
     "name": "stderr",
     "output_type": "stream",
     "text": [
      "Computing embeddings: 100%|██████████| 26/26 [00:00<00:00, 37.25it/s]"
     ]
    },
    {
     "name": "stdout",
     "output_type": "stream",
     "text": [
      "\n",
      "Building FAISS index...\n",
      "\n",
      "Saving FAISS index and text data...\n",
      "✅ FAISS retrieval system built and saved successfully!\n"
     ]
    },
    {
     "name": "stderr",
     "output_type": "stream",
     "text": [
      "\n"
     ]
    }
   ],
   "source": [
    "text_data_file = r'..\\..\\dataset\\nhsInform\\NHS_Data.json'\n",
    "index_file = r'..\\..\\dataset\\nhsInform\\faiss_index.bin'\n",
    "texts_file = r'..\\..\\dataset\\nhsInform\\texts.json'\n",
    "\n",
    "build_and_save_text_retrieval_system(text_data_file, index_file, texts_file)"
   ]
  },
  {
   "cell_type": "markdown",
   "metadata": {},
   "source": [
    "# TEST"
   ]
  },
  {
   "cell_type": "code",
   "execution_count": 24,
   "metadata": {},
   "outputs": [
    {
     "name": "stdout",
     "output_type": "stream",
     "text": [
      "\n",
      "🔍 Search Results:\n",
      "1. Disease: Pneumonia\n",
      "Symptoms: Your GP may be able to diagnose pneumonia by asking about your symptoms and examining your chest. Further tests may be needed in some cases. Pneumonia can be difficult to diagnose because it has similar symptoms to other conditions. For example the common cold , bronchitis and asthma . To help make a diagnosis, your GP may ask you: whether you feel breathless if you’re breathing faster than usual how long you’ve had your cough whether you’re coughing up mucus and if so, what colour it is if the pain in your chest is worse when you breathe in or out\n",
      "Treatments: You may need treatment in hospital if your symptoms are severe. You may be given antibiotics and fluids intravenously through a drip, and you may need oxygen if your blood oxygen levels are low. In very serious cases of pneumonia, breathing assistance through a ventilator in a high dependency unit (HDU) or an intensive care unit (ICU) may be required. (Score: 0.7243)\n",
      "2. Disease: Chest infection\n",
      "Symptoms: The main symptoms of a chest infection can include: a persistent cough coughing up yellow or green phlegm (thick mucus), or coughing up blood breathlessness or rapid and shallow breathing wheezing a high temperature (fever) a rapid heartbeat chest pain or tightness feeling confused and disorientated\n",
      "Treatments: Avoid cough medicines, as there’s little evidence they work. Coughing actually helps you clear the infection more quickly by getting rid of the phlegm from your lungs. Antibiotics aren’t recommended for many chest infections, because they only work if the infection is caused by bacteria, rather than a virus. Your GP will usually only prescribe antibiotics if they think you have pneumonia, or you’re at risk of complications such as fluid building up around the lungs ( pleurisy ). If there’s a flu outbreak in your local area and you’re at risk of serious infection, your GP may also prescribe antiviral medication. Read more about treating bronchitis and treating pneumonia (Score: 0.8380)\n",
      "3. Disease: Bronchitis\n",
      "Symptoms: The main symptom is a hacking cough , which may bring up yellow-green mucus (phlegm). Bronchitis may also cause: sore throat headache runny or blocked nose aches and pains tiredness shortness of breath or wheezing\n",
      "Treatments: In most cases, bronchitis will clear up by itself within a few weeks without needing treatment. This type of bronchitis is known as acute bronchitis. Your cough may last for several weeks after other symptoms have gone. You may also find that the continual coughing makes your chest and stomach muscles sore. (Score: 0.9657)\n"
     ]
    }
   ],
   "source": [
    "index = faiss.read_index(index_file)\n",
    "with open(texts_file, \"r\", encoding=\"utf-8\") as f:\n",
    "    texts = json.load(f)\n",
    "\n",
    "query = \"What are the symptoms of pneumonia?\"\n",
    "results = search_faiss(query, index, texts, k=3)\n",
    "\n",
    "print(\"\\n🔍 Search Results:\")\n",
    "for i, (text, score) in enumerate(results):\n",
    "    print(f\"{i+1}. {text} (Score: {score:.4f})\")"
   ]
  }
 ],
 "metadata": {
  "kernelspec": {
   "display_name": "unsloth_env",
   "language": "python",
   "name": "python3"
  },
  "language_info": {
   "codemirror_mode": {
    "name": "ipython",
    "version": 3
   },
   "file_extension": ".py",
   "mimetype": "text/x-python",
   "name": "python",
   "nbconvert_exporter": "python",
   "pygments_lexer": "ipython3",
   "version": "3.11.11"
  }
 },
 "nbformat": 4,
 "nbformat_minor": 2
}
