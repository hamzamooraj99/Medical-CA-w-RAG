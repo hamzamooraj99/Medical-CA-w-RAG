{
 "cells": [
  {
   "cell_type": "code",
   "execution_count": null,
   "id": "71612c86-f2f5-4055-8002-ba96432d04a2",
   "metadata": {},
   "outputs": [
    {
     "name": "stderr",
     "output_type": "stream",
     "text": [
      "Processing without RAG:   0%|          | 1/410 [00:03<25:17,  3.71s/it]"
     ]
    },
    {
     "name": "stdout",
     "output_type": "stream",
     "text": [
      "--- Record 1 ---\n",
      "Symptoms: In most cases, this condition causes no noticeable symptoms. However, if it becomes large, some people may develop pain or a pulsating feeling in their abdomen (tummy) or persistent back pain. This condition doesn’t usually pose a serious threat to health, but there is a risk that a larger abnormality could rupture. A rupture can cause massive internal bleeding, which is usually fatal. Around 8 out of 10 people with a rupture either die before they reach the hospital or do not survive surgery. The most common symptom of a rupture is sudden and severe abdominal pain. If you suspect that you or someone else has had a rupture, call emergency services immediately and ask for an ambulance.\n",
      "Generated Response: Aortic aneurysm\n",
      "\n",
      "### Step 1: The condition described is characterized by the enlargement of a blood vessel, which can become large and painful, or rupture and cause massive internal bleeding.\n",
      "\n",
      "### Step 2: Aortic aneurys\n",
      "\n",
      "================================================================================\n",
      "\n"
     ]
    },
    {
     "name": "stderr",
     "output_type": "stream",
     "text": [
      "Processing without RAG:   0%|          | 2/410 [00:06<22:54,  3.37s/it]"
     ]
    },
    {
     "name": "stdout",
     "output_type": "stream",
     "text": [
      "--- Record 2 ---\n",
      "Symptoms: Symptoms may vary from person to person and can appear gradually or suddenly. Common symptoms include swelling, pain that worsens during or after movement or exercise, stiffness that is more pronounced in the morning or after periods of rest, tenderness when touching the affected area, mild heat, and a loss of movement and strength around the ankle and foot.\n",
      "Generated Response: Rheumatoid Arthritis\n",
      "\n",
      "### Step 1: Identify the key symptoms\n",
      "The symptoms described are swelling, pain that worsens during or after movement or exercise, stiffness that is more pronounced in the morning or after periods of rest, tenderness\n",
      "\n",
      "================================================================================\n",
      "\n"
     ]
    },
    {
     "name": "stderr",
     "output_type": "stream",
     "text": [
      "Processing without RAG:   1%|          | 3/410 [00:09<21:58,  3.24s/it]"
     ]
    },
    {
     "name": "stdout",
     "output_type": "stream",
     "text": [
      "--- Record 3 ---\n",
      "Symptoms: This condition is very common among teenagers and young adults, affecting approximately 80% of individuals aged 11 to 30. It is most prevalent in girls between the ages of 14 to 17 and in boys between 16 to 19. Many people experience intermittent symptoms over several years, with improvements typically occurring as they get older. Symptoms often disappear by the mid-twenties, but in some cases, they may persist into adulthood. Around 5% of women and 1% of men continue to experience symptoms beyond the age of 25.\n",
      "Generated Response: Acne\n",
      "\n",
      "### Step 1: Review the prevalence of the condition\n",
      "The condition described is very common among teenagers and young adults, affecting approximately 80% of individuals aged 11 to 30.\n",
      "\n",
      "### Step 2: Identify the age groups\n",
      "\n",
      "================================================================================\n",
      "\n"
     ]
    },
    {
     "name": "stderr",
     "output_type": "stream",
     "text": [
      "Processing without RAG:   1%|          | 4/410 [00:12<21:25,  3.17s/it]"
     ]
    },
    {
     "name": "stdout",
     "output_type": "stream",
     "text": [
      "--- Record 4 ---\n",
      "Symptoms: To diagnose this condition, a healthcare professional will examine your abdomen. They may perform a simple test called Murphy’s sign, where you will be asked to take a deep breath while pressure is applied just below your rib cage. If the condition is present, you will experience sudden pain as your organ moves downward during inhalation. If symptoms suggest an acute case, you will be referred to a hospital immediately for further tests and treatment, which may include additional diagnostic procedures.\n",
      "Generated Response: Gallstones\n",
      "\n",
      "### Step 1: Review the symptoms described.\n",
      "The patient experiences pain in the upper right or middle abdomen that radiates to the right shoulder. The pain is typically worse after eating and may be accompanied by nausea and vomiting. The\n",
      "\n",
      "================================================================================\n",
      "\n"
     ]
    },
    {
     "name": "stderr",
     "output_type": "stream",
     "text": [
      "Processing without RAG:   1%|          | 5/410 [00:16<21:08,  3.13s/it]"
     ]
    },
    {
     "name": "stdout",
     "output_type": "stream",
     "text": [
      "--- Record 5 ---\n",
      "Symptoms: Symptoms of this condition usually begin gradually before rapidly worsening as the number of abnormal cells in the blood increases. Most symptoms result from a lack of healthy blood cells. Common signs include pale skin, fatigue, breathlessness, frequent infections over a short period, unusual or frequent bleeding (such as bleeding gums or nosebleeds), a high temperature (fever) of 38°C (100.4°F) or above, night sweats, bone and joint pain, easily bruised skin, swollen lymph nodes, abdominal pain due to an enlarged liver or spleen, unexplained weight loss, and a purple skin rash (purpura).\n",
      "Generated Response: Leukemia\n",
      "\n",
      "Leukemia is a disease of the blood and bone marrow, which is the spongy tissue inside some of the bones. In this disease, abnormal cells are produced in the bone marrow and enter the bloodstream. The abnormal cells\n",
      "\n",
      "================================================================================\n",
      "\n"
     ]
    },
    {
     "name": "stderr",
     "output_type": "stream",
     "text": [
      "Processing without RAG:   1%|▏         | 6/410 [00:19<20:56,  3.11s/it]"
     ]
    },
    {
     "name": "stdout",
     "output_type": "stream",
     "text": [
      "--- Record 6 ---\n",
      "Symptoms: As abnormal cells multiply in the bone marrow, the production of normal blood cells decreases. Children may become tired and lethargic due to anemia caused by a lack of red blood cells. They may develop bruises, and bleeding may take longer to stop due to a low platelet count, which affects blood clotting. Additionally, a reduced number of normal white blood cells can lead to frequent infections. Affected children may feel generally unwell, experience aches and pains in the limbs, or have swollen lymph glands. Initially, the symptoms may resemble those of a viral infection, but when they persist for more than one to two weeks, the underlying condition often becomes clear.\n",
      "Generated Response: Leukemia\n",
      "\n",
      "### Step 1: Leukemia Overview\n",
      "Leukemia is a cancer of the blood or bone marrow, affecting the production of normal blood cells. There are several types of leukemia, classified based on the cell type affected and\n",
      "\n",
      "================================================================================\n",
      "\n"
     ]
    },
    {
     "name": "stderr",
     "output_type": "stream",
     "text": [
      "Processing without RAG:   2%|▏         | 7/410 [00:22<20:51,  3.11s/it]"
     ]
    },
    {
     "name": "stdout",
     "output_type": "stream",
     "text": [
      "--- Record 7 ---\n",
      "Symptoms: Many of the symptoms of this condition result from a reduced number of healthy blood cells in the body. Common symptoms include looking paler than usual and feeling tired due to a low red blood cell count (anemia), easy bruising and prolonged bleeding caused by a reduced number of platelets, and frequent infections due to a shortage of mature white blood cells. Additional symptoms may include bone aches and pains, swollen lymph nodes in the neck, underarms, or groin, general feelings of unwellness and fatigue, fever and night sweats without an obvious cause, as well as headaches and visual disturbances.\n",
      "Generated Response: Leukemia\n",
      "\n",
      "### Step 1:  Anemia is the most common symptom in leukemia, resulting from a low red blood cell count. Anemia can cause fatigue, weakness, and shortness of breath.\n",
      "\n",
      "### Step 2:  Easy\n",
      "\n",
      "================================================================================\n",
      "\n"
     ]
    },
    {
     "name": "stderr",
     "output_type": "stream",
     "text": [
      "Processing without RAG:   2%|▏         | 8/410 [00:25<20:45,  3.10s/it]"
     ]
    },
    {
     "name": "stdout",
     "output_type": "stream",
     "text": [
      "--- Record 8 ---\n",
      "Symptoms: The symptoms of this condition typically develop over a few weeks and gradually become more severe. Common signs include pale skin, persistent tiredness, breathlessness, frequent infections, and unusual or frequent bleeding, such as bleeding gums or nosebleeds.\n",
      "Generated Response: Anemia\n",
      "\n",
      "### Step 1: Identify the key symptoms\n",
      "The key symptoms of this condition are pale skin, persistent tiredness, breathlessness, frequent infections, and unusual or frequent bleeding.\n",
      "\n",
      "### Step 2: Analyze the symptoms in relation\n",
      "\n",
      "================================================================================\n",
      "\n"
     ]
    },
    {
     "name": "stderr",
     "output_type": "stream",
     "text": [
      "Processing without RAG:   2%|▏         | 9/410 [00:28<20:41,  3.09s/it]"
     ]
    },
    {
     "name": "stdout",
     "output_type": "stream",
     "text": [
      "--- Record 9 ---\n",
      "Symptoms: As abnormal cells multiply in the bone marrow, the production of normal blood cells decreases. This can cause children to become tired and lethargic due to anemia, which results from a shortage of red blood cells. They may also develop bruises, and bleeding may take longer to stop because of a reduced number of platelets. Additionally, a low count of normal white blood cells can make them more susceptible to infections. Affected children often feel generally unwell, experience aches and pains in their limbs, or develop swollen lymph glands. Initially, the symptoms may resemble those of a viral infection, but if they persist for more than one to two weeks, the underlying condition usually becomes apparent.\n",
      "Generated Response: Leukemia\n",
      "\n",
      "Leukemia is a type of cancer that begins in the bone marrow and results in the production of abnormal white blood cells. These abnormal cells can no longer function properly as part of the immune system and can crowd out normal cells,\n",
      "\n",
      "================================================================================\n",
      "\n"
     ]
    },
    {
     "name": "stderr",
     "output_type": "stream",
     "text": [
      "Processing without RAG:   2%|▏         | 10/410 [00:31<20:36,  3.09s/it]"
     ]
    },
    {
     "name": "stdout",
     "output_type": "stream",
     "text": [
      "--- Record 10 ---\n",
      "Symptoms: Many of the symptoms of this condition result from a reduced number of healthy blood cells in the body. Common symptoms include looking paler than usual and feeling tired due to a low red blood cell count (anemia), easy bruising and prolonged bleeding caused by a reduced number of platelets, and frequent infections due to a shortage of mature white blood cells. Other symptoms may include aches and pains in the bones, swollen lymph nodes in the neck, underarms, or groin, feeling generally unwell and fatigued, fever and night sweats without an obvious cause, headaches and blurred vision due to an excess of abnormal white blood cells, and breathlessness related to the same issue.\n",
      "Generated Response: Leukemia\n",
      "\n",
      "### Step 1: The patient is described as looking paler than usual and feeling tired due to a low red blood cell count.\n",
      "This symptom suggests anemia, which is a condition where the body does not have enough red blood\n",
      "\n",
      "================================================================================\n",
      "\n"
     ]
    },
    {
     "name": "stderr",
     "output_type": "stream",
     "text": [
      "Processing without RAG:   3%|▎         | 11/410 [00:34<20:25,  3.07s/it]"
     ]
    },
    {
     "name": "stdout",
     "output_type": "stream",
     "text": [
      "--- Record 11 ---\n",
      "Symptoms: The primary symptom of this condition is a severe, dull pain in the upper abdomen that appears suddenly. This aching pain often worsens gradually and may radiate to the back or under the left shoulder blade. Eating or drinking, particularly fatty foods, can quickly intensify the discomfort. Some individuals find that leaning forward or curling into a ball helps relieve the pain, whereas lying flat on the back tends to make it worse. When caused by gallstones, symptoms often arise after consuming a large meal, while cases related to alcohol consumption typically lead to pain developing 6 to 12 hours after drinking a significant amount of alcohol.\n",
      "Generated Response: Pancreatitis\n",
      "\n",
      "The pain is severe, dull, and aching, and is located in the upper abdomen, radiating to the back and under the left shoulder blade. Leaning forward or curling into a ball relieves the pain, whereas\n",
      "\n",
      "================================================================================\n",
      "\n"
     ]
    },
    {
     "name": "stderr",
     "output_type": "stream",
     "text": [
      "Processing without RAG:   3%|▎         | 12/410 [00:37<20:19,  3.06s/it]"
     ]
    },
    {
     "name": "stdout",
     "output_type": "stream",
     "text": [
      "--- Record 12 ---\n",
      "Symptoms: This condition is managed with lifelong medication to replace missing hormones. With proper treatment, symptoms can be largely controlled, allowing most individuals to lead an active life with minimal limitations. However, many people experience episodes of fatigue and may develop related health conditions such as diabetes or an underactive thyroid. A significant risk associated with this condition is an adrenal crisis, a sudden worsening of symptoms that occurs when cortisol levels drop severely due to missed medication or another illness. Symptoms of an adrenal crisis include severe nausea, confusion, fever, headache, and weakness. If left untreated, it can be life-threatening. In case of severe symptoms, immediate medical attention is required.\n",
      "Generated Response: Addison disease\n",
      "\n",
      "### Step 1: Symptoms described in the question include fatigue, episodes of fatigue, nausea, confusion, fever, headache, and weakness.\n",
      "\n",
      "### Step 2: The condition is described as being managed with lifelong medication to replace missing\n",
      "\n",
      "================================================================================\n",
      "\n"
     ]
    },
    {
     "name": "stderr",
     "output_type": "stream",
     "text": [
      "Processing without RAG:   3%|▎         | 13/410 [00:40<19:57,  3.02s/it]"
     ]
    },
    {
     "name": "stdout",
     "output_type": "stream",
     "text": [
      "--- Record 13 ---\n",
      "Symptoms: This condition occurs when the lining of the womb (endometrium) grows into the muscular wall of the uterus. It can affect the entire womb or only a specific part of it. While not life-threatening, the symptoms can significantly impact daily life, making it important to seek appropriate support and management.\n",
      "Generated Response: Endometriosis\n",
      "\n",
      "### Step 1: Consider the symptoms described\n",
      "The patient described symptoms of heavy menstrual bleeding, dysmenorrhea, and dyspareunia.\n",
      "\n",
      "### Step 2: Associate the symptoms with the disease\n",
      "Heavy menstrual bleeding\n",
      "\n",
      "================================================================================\n",
      "\n"
     ]
    },
    {
     "name": "stderr",
     "output_type": "stream",
     "text": [
      "Processing without RAG:   3%|▎         | 14/410 [00:43<20:05,  3.04s/it]"
     ]
    },
    {
     "name": "stdout",
     "output_type": "stream",
     "text": [
      "--- Record 14 ---\n",
      "Symptoms: This condition refers to liver damage caused by excessive alcohol consumption, progressing through various stages of severity. In its early stages, there are often no noticeable symptoms. However, once significant liver damage occurs, symptoms may include nausea, weight loss, loss of appetite, yellowing of the eyes and skin (jaundice), swelling in the ankles and abdomen, confusion or drowsiness, and, in severe cases, vomiting blood or passing blood in stools.\n",
      "Generated Response: Alcohol-related liver disease\n",
      "\n",
      "### Step 1: Identify the disease described\n",
      "Alcohol-related liver disease, also known as alcoholic liver disease, is a condition that arises from chronic alcohol consumption, leading to liver damage of varying severity.\n",
      "\n",
      "### Step\n",
      "\n",
      "================================================================================\n",
      "\n"
     ]
    },
    {
     "name": "stderr",
     "output_type": "stream",
     "text": [
      "Processing without RAG:   4%|▎         | 15/410 [00:46<20:01,  3.04s/it]"
     ]
    },
    {
     "name": "stdout",
     "output_type": "stream",
     "text": [
      "--- Record 15 ---\n",
      "Symptoms: Mild cases of this condition can often be managed with self-care. While medication does not cure the underlying allergy, it can help alleviate symptoms. It is important to read the instructions provided with any medication and follow the recommended dosage. If symptoms persist beyond two weeks despite treatment, consulting a healthcare provider is advisable, as stronger medications, such as corticosteroid nasal sprays, may be required.\n",
      "Generated Response: Allergic rhinitis\n",
      "\n",
      "### Step 1:  Identify the primary symptoms of the condition\n",
      "The primary symptoms of the condition include sneezing, runny nose, nasal congestion, and itchy, watery eyes. In some cases,\n",
      "\n",
      "================================================================================\n",
      "\n"
     ]
    },
    {
     "name": "stderr",
     "output_type": "stream",
     "text": [
      "Processing without RAG:   4%|▍         | 16/410 [00:49<20:01,  3.05s/it]"
     ]
    },
    {
     "name": "stdout",
     "output_type": "stream",
     "text": [
      "--- Record 16 ---\n",
      "Symptoms: Symptoms of an allergic reaction typically appear within minutes of exposure to an allergen, although in some cases, they may develop gradually over several hours. While most allergic reactions are mild and can be bothersome, they do not usually interfere significantly with daily activities. However, in rare cases, a severe reaction known as anaphylaxis can occur, requiring immediate medical attention.\n",
      "Generated Response: Allergic reaction\n",
      "\n",
      "### Step 1: Identify the key symptoms described\n",
      "The symptoms described are an itchy rash and swelling, which are classic signs of an allergic reaction.\n",
      "\n",
      "### Step 2: Recognize the time course of the symptoms\n",
      "The\n",
      "\n",
      "================================================================================\n",
      "\n"
     ]
    },
    {
     "name": "stderr",
     "output_type": "stream",
     "text": [
      "Processing without RAG:   4%|▍         | 17/410 [00:53<20:40,  3.16s/it]"
     ]
    },
    {
     "name": "stdout",
     "output_type": "stream",
     "text": [
      "--- Record 17 ---\n",
      "Symptoms: This is a progressive condition, meaning that symptoms gradually worsen over time. The earliest signs often involve minor memory problems, such as a loss of interest and enjoyment in daily activities. It is also common to forget recent conversations, events, or place names. As the condition progresses, memory problems become more severe, impacting daily life more significantly.\n",
      "Generated Response: Alzheimer disease\n",
      "\n",
      "### Step 1:  The patient's symptoms suggest a neurodegenerative disorder that progressively affects memory.\n",
      "The patient's symptoms suggest a neurodegenerative disorder that progressively affects memory.\n",
      "\n",
      "### Step 2:  The patient\n",
      "\n",
      "================================================================================\n",
      "\n"
     ]
    },
    {
     "name": "stderr",
     "output_type": "stream",
     "text": [
      "Processing without RAG:   4%|▍         | 18/410 [00:57<22:12,  3.40s/it]"
     ]
    },
    {
     "name": "stdout",
     "output_type": "stream",
     "text": [
      "--- Record 18 ---\n",
      "Symptoms: The symptoms of this condition often resemble those of more common and less serious anal issues, such as hemorrhoids or anal fissures. Signs may include rectal bleeding, itching and pain around the anus, small lumps near the anal area, mucus discharge, and loss of bowel control (bowel incontinence).\n",
      "Generated Response: Crohn's disease.\n",
      "\n",
      "### Step 1: Identify the key symptoms and signs of the condition described.\n",
      "The symptoms and signs of the condition include rectal bleeding, itching and pain around the anus, small lumps near the anal area, mucus\n",
      "\n",
      "================================================================================\n",
      "\n"
     ]
    },
    {
     "name": "stderr",
     "output_type": "stream",
     "text": [
      "Processing without RAG:   5%|▍         | 19/410 [01:00<21:20,  3.28s/it]"
     ]
    },
    {
     "name": "stdout",
     "output_type": "stream",
     "text": [
      "--- Record 19 ---\n",
      "Symptoms: Even after receiving adrenaline, individuals experiencing this condition should be taken to a hospital for observation, typically for 6 to 12 hours, as symptoms may occasionally reappear. During hospitalization, oxygen therapy may be provided to assist with breathing, and intravenous fluids may be administered to help stabilize blood pressure. In addition to adrenaline, other medications such as antihistamines and corticosteroids may be used to alleviate symptoms. Blood tests might also be conducted to confirm the condition. Discharge from the hospital is typically possible once symptoms are under control and unlikely to return quickly, though severe cases may require a longer stay. Patients may be advised to continue taking antihistamines and corticosteroids for 2 to 3 days after leaving the hospital to prevent recurrence.\n",
      "Generated Response: Anaphylaxis\n",
      "\n",
      "The following are the key features of anaphylaxis:\n",
      "\n",
      "*   **Rapid onset** of symptoms (usually within 5-30 minutes after exposure to the offending substance)\n",
      "*   **Widespread** distribution of\n",
      "\n",
      "================================================================================\n",
      "\n"
     ]
    },
    {
     "name": "stderr",
     "output_type": "stream",
     "text": [
      "Processing without RAG:   5%|▍         | 20/410 [01:02<20:34,  3.16s/it]"
     ]
    },
    {
     "name": "stdout",
     "output_type": "stream",
     "text": [
      "--- Record 20 ---\n",
      "Symptoms: The primary symptom of this condition is chest pain, which may present as a dull ache, a heavy sensation, or a feeling of tightness in the chest. The pain can also spread to the arms, neck, jaw, or back and is often triggered by physical exertion. While this condition itself is not life-threatening, prolonged chest pain could indicate a more serious event, such as a heart attack.\n",
      "Generated Response: Angina pectoris\n",
      "\n",
      "### Step 1: Identify the key symptoms of the condition\n",
      "The primary symptom of this condition is chest pain that can present as a dull ache, a heavy sensation, or a feeling of tightness in the chest.\n",
      "\n",
      "================================================================================\n",
      "\n"
     ]
    },
    {
     "name": "stderr",
     "output_type": "stream",
     "text": [
      "Processing without RAG: 100%|██████████| 410/410 [20:23<00:00,  2.99s/it]\n"
     ]
    }
   ],
   "source": [
    "import torch\n",
    "import pandas as pd\n",
    "from transformers import AutoModelForCausalLM, AutoTokenizer\n",
    "from tqdm import tqdm\n",
    "import random\n",
    "import numpy as np\n",
    "\n",
    "\n",
    "device = \"cuda\" if torch.cuda.is_available() else \"cpu\"\n",
    "\n",
    "\n",
    "\n",
    "def load_model(model_path):\n",
    "    tokenizer = AutoTokenizer.from_pretrained(model_path, trust_remote_code=True)\n",
    "    model = AutoModelForCausalLM.from_pretrained(\n",
    "        model_path,\n",
    "        torch_dtype=torch.bfloat16,\n",
    "        low_cpu_mem_usage=True,\n",
    "        trust_remote_code=True\n",
    "    ).to(device).eval()\n",
    "    return model, tokenizer\n",
    "\n",
    "\n",
    "def format_query(user_input):\n",
    "    return f\"### User Question ###\\n{user_input}Based on the symptoms I described, what disease do you think I have? Please give the disease name before proceeding with the subsequent analysis.\\n\\n### Assistant Answer ###\\n\"\n",
    "\n",
    "\n",
    "def generate_response(model, tokenizer, query):\n",
    "    inputs = tokenizer(query, return_tensors=\"pt\").to(device)\n",
    "    gen_kwargs = {\"max_new_tokens\": 50, \"do_sample\": True, \"temperature\": 0.7, \"top_k\": 50}\n",
    "    with torch.no_grad():\n",
    "        outputs = model.generate(**inputs, **gen_kwargs)\n",
    "        response = tokenizer.decode(outputs[0], skip_special_tokens=True)\n",
    "    return response.replace(query, \"\").strip()\n",
    "\n",
    "\n",
    "def process_excel_no_rag(file_path, output_path, model_path):\n",
    "    df = pd.read_excel(file_path)\n",
    "\n",
    "    \n",
    "    if \"Response before RAG\" not in df.columns:\n",
    "        df[\"Response before RAG\"] = \"\"\n",
    "    df[\"Response before RAG\"] = df[\"Response before RAG\"].astype(str)\n",
    "\n",
    "    model, tokenizer = load_model(model_path)\n",
    "\n",
    "    for i, row in tqdm(df.iterrows(), total=len(df), desc=\"Processing without RAG\"):\n",
    "        symptom_text = row[\"Symptoms\"]\n",
    "        query_no_rag = format_query(symptom_text)\n",
    "        response = generate_response(model, tokenizer, query_no_rag)\n",
    "\n",
    "        \n",
    "        df.at[i, \"Response before RAG\"] = str(response)\n",
    "\n",
    "        \n",
    "        if i < 20:\n",
    "            print(f\"--- Record {i+1} ---\")\n",
    "            print(f\"Symptoms: {symptom_text}\")\n",
    "            print(f\"Generated Response: {response}\")\n",
    "            print(\"\\n\" + \"=\"*80 + \"\\n\")\n",
    "    \n",
    "    df.to_excel(output_path, index=False)\n",
    "\n",
    "\n",
    "if __name__ == \"__main__\":\n",
    "    input_file = \"/root/autodl-tmp/nhs_test.xlsx\"\n",
    "    output_file = \"/root/autodl-tmp/nhs_test_no_rag.xlsx\"\n",
    "    model_path = \"/root/autodl-tmp/trained_model_MedQA\"\n",
    "    \n",
    "    process_excel_no_rag(input_file, output_file, model_path)\n"
   ]
  }
 ],
 "metadata": {
  "kernelspec": {
   "display_name": "Python 3 (ipykernel)",
   "language": "python",
   "name": "python3"
  },
  "language_info": {
   "codemirror_mode": {
    "name": "ipython",
    "version": 3
   },
   "file_extension": ".py",
   "mimetype": "text/x-python",
   "name": "python",
   "nbconvert_exporter": "python",
   "pygments_lexer": "ipython3",
   "version": "3.12.3"
  }
 },
 "nbformat": 4,
 "nbformat_minor": 5
}
