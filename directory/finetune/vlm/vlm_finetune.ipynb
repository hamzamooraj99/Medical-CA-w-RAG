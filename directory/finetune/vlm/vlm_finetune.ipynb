{
 "cells": [
  {
   "cell_type": "markdown",
   "metadata": {},
   "source": [
    "## Unsloth Installation: *ONLY FOR COLAB*"
   ]
  },
  {
   "cell_type": "code",
   "execution_count": null,
   "metadata": {},
   "outputs": [],
   "source": [
    "%%capture\n",
    "import os\n",
    "if \"COLAB_\" not in \"\".join(os.environ.keys()):\n",
    "    !pip install unsloth\n",
    "else:\n",
    "    # Do this only in Colab and Kaggle notebooks! Otherwise use pip install unsloth\n",
    "    !pip install --no-deps bitsandbytes accelerate xformers==0.0.29 peft trl triton\n",
    "    !pip install --no-deps cut_cross_entropy unsloth_zoo\n",
    "    !pip install sentencepiece protobuf datasets huggingface_hub hf_transfer\n",
    "    !pip install --no-deps unsloth"
   ]
  },
  {
   "cell_type": "markdown",
   "metadata": {},
   "source": [
    "# Import Libraries"
   ]
  },
  {
   "cell_type": "code",
   "execution_count": null,
   "metadata": {},
   "outputs": [],
   "source": [
    "from unsloth import FastVisionModel, is_bf16_supported\n",
    "from unsloth.trainer import UnslothVisionDataCollator\n",
    "from trl import SFTConfig, SFTTrainer\n",
    "import torch\n",
    "from datasets import load_dataset, Dataset\n",
    "from transformers import Qwen2VLImageProcessor\n",
    "import pandas as pd"
   ]
  },
  {
   "cell_type": "markdown",
   "metadata": {},
   "source": [
    "#### Expandable Memory Segements"
   ]
  },
  {
   "cell_type": "code",
   "execution_count": null,
   "metadata": {},
   "outputs": [],
   "source": [
    "import os\n",
    "os.environ[\"PYTORCH_CUDA_ALLOC_CONF\"] = \"expandable_segments:True\"\n",
    "os.environ[\"CUDA_LAUNCH_BLOCKING\"] = \"1\""
   ]
  },
  {
   "cell_type": "markdown",
   "metadata": {},
   "source": [
    "# Make the Model"
   ]
  },
  {
   "cell_type": "markdown",
   "metadata": {},
   "source": [
    "## Define Models"
   ]
  },
  {
   "cell_type": "code",
   "execution_count": null,
   "metadata": {},
   "outputs": [],
   "source": [
    "qwen_models = {\n",
    "    \"2B\": {\n",
    "        'model': \"unsloth/Qwen2-VL-2B-Instruct-unsloth-bnb-4bit\",\n",
    "        'repo' : \"hamzamooraj99/MedQA-Qwen-2B-LoRA16\"\n",
    "    },\n",
    "    \"7B\": {\n",
    "        'model': \"unsloth/Qwen2-VL-7B-Instruct-unsloth-bnb=4bit\",\n",
    "        'repo' : \"hamzamooraj99/MedQA-Qwen-7B-LoRA16\"\n",
    "    }\n",
    "}"
   ]
  },
  {
   "cell_type": "code",
   "execution_count": null,
   "metadata": {},
   "outputs": [],
   "source": [
    "model_name = qwen_models['2B']['model']\n",
    "save_repo = qwen_models['2B']['repo']"
   ]
  },
  {
   "cell_type": "markdown",
   "metadata": {},
   "source": [
    "## Model Prep"
   ]
  },
  {
   "cell_type": "code",
   "execution_count": null,
   "metadata": {},
   "outputs": [],
   "source": [
    "model, tokenizer = FastVisionModel.from_pretrained(\n",
    "    model_name,\n",
    "    load_in_4bit= True,\n",
    "    use_gradient_checkpointing=\"unsloth\",\n",
    "    \n",
    ")\n",
    "model = FastVisionModel.get_peft_model(\n",
    "    model,\n",
    "    finetune_vision_layers=True, \n",
    "    finetune_attention_modules=True, \n",
    "    finetune_language_layers=True, \n",
    "    finetune_mlp_modules=True,\n",
    "\n",
    "    r=16,\n",
    "    lora_alpha=16,\n",
    "    lora_dropout=0,\n",
    "    bias='none',\n",
    "    random_state=3407,\n",
    "    use_rslora=False,\n",
    "    loftq_config=None\n",
    "    \n",
    ")\n",
    "\n",
    "tokenizer.image_processor = Qwen2VLImageProcessor(\n",
    "    do_resize=True,\n",
    "    max_pixels=512*512,\n",
    "    min_pixels=224*224\n",
    ")"
   ]
  },
  {
   "cell_type": "markdown",
   "metadata": {},
   "source": [
    "# Dataset"
   ]
  },
  {
   "cell_type": "markdown",
   "metadata": {},
   "source": [
    "## Load the Data & Preview"
   ]
  },
  {
   "cell_type": "code",
   "execution_count": null,
   "metadata": {},
   "outputs": [],
   "source": [
    "train_set = load_dataset(\"hamzamooraj99/PMC-VQA-1\", split='train')\n",
    "val_set = load_dataset(\"hamzamooraj99/PMC-VQA-1\", split='validation')"
   ]
  },
  {
   "cell_type": "markdown",
   "metadata": {},
   "source": [
    "## Format the Dataset"
   ]
  },
  {
   "cell_type": "code",
   "execution_count": null,
   "metadata": {},
   "outputs": [],
   "source": [
    "def convert_to_conversation(sample):\n",
    "    conversation = [\n",
    "        {\"role\": \"user\",\n",
    "        \"content\": [\n",
    "                {\"type\": \"text\", \"text\": \"You are a botanist expert and have to identify and describe the crop and disease (if any) present in the image provided.\"},\n",
    "                {\"type\": \"image\", \"image\": sample['image']}\n",
    "            ]\n",
    "        },\n",
    "        {\"role\": \"assistant\",\n",
    "        \"content\": [\n",
    "                {\"type\": \"text\", \"text\": f\"Class: {sample['crop']}\\nDisease: {sample['disease']}\"}\n",
    "            ]\n",
    "        }\n",
    "    ]\n",
    "    return({\"messages\": conversation})"
   ]
  },
  {
   "cell_type": "markdown",
   "metadata": {},
   "source": [
    "# Model before Fine-Tuning"
   ]
  },
  {
   "cell_type": "code",
   "execution_count": null,
   "metadata": {},
   "outputs": [],
   "source": [
    "FastVisionModel.for_inference(model)\n",
    "image = train_set[2]['image']\n",
    "instruction = \"You are a botanist expert and have to identify and describe the crop and disease (if any) present in the image provided.\"\n",
    "\n",
    "messages = [\n",
    "    {'role': 'user',\n",
    "     'content': [\n",
    "         {'type': 'image'},\n",
    "         {'type': 'text', 'text': instruction}\n",
    "     ]}\n",
    "]\n",
    "\n",
    "input_text = tokenizer.apply_chat_template(messages, add_generation_prompt=True)\n",
    "inputs = tokenizer(\n",
    "    image,\n",
    "    input_text,\n",
    "    add_special_tokens=False,\n",
    "    return_tensors=\"pt\"\n",
    ").to('cuda')\n",
    "\n",
    "from transformers import TextStreamer\n",
    "text_streamer = TextStreamer(tokenizer, skip_prompt = True)\n",
    "_ = model.generate(**inputs, streamer = text_streamer, max_new_tokens = 128,\n",
    "                   use_cache = True, temperature = 1.5, min_p = 0.1)"
   ]
  },
  {
   "cell_type": "markdown",
   "metadata": {},
   "source": [
    "# Fine-Tune the Model"
   ]
  },
  {
   "cell_type": "code",
   "execution_count": null,
   "metadata": {},
   "outputs": [],
   "source": [
    "FastVisionModel.for_training(model)\n",
    "trainer = SFTTrainer(\n",
    "    model = model,\n",
    "    tokenizer = tokenizer,\n",
    "    data_collator = UnslothVisionDataCollator(model, tokenizer, convert_to_conversation),\n",
    "    train_dataset = train_set,\n",
    "    args = SFTConfig(\n",
    "        per_device_train_batch_size=2,  #Each GPU processes 2 samples per batch,\n",
    "        gradient_accumulation_steps=4,  #Gradients are accumulated for 4 steps before updating model\n",
    "        warmup_steps=50,                #Gradually increases learning rate for first n steps to prevent instability\n",
    "        num_train_epochs=1,             #Parameter to perform full fine-tune (use max_steps=30 for a quick test)\n",
    "        # Optimisation & Mixed Precision\n",
    "        learning_rate=2e-4,\n",
    "        fp16=not is_bf16_supported(),   #Use float16 if GPU does not support bf16\n",
    "        bf16=is_bf16_supported(),         #Use bfloat16 if GPU supports it (better stability)\n",
    "        # Optimiser & Weight Decay\n",
    "        optim=\"adamw_8bit\",\n",
    "        weight_decay=0.01,              #Regularisation to prevent overfitting\n",
    "        lr_scheduler_type='linear',     #Decay type for learning rate from learning_rate to 0\n",
    "        seed=3407,\n",
    "        output_dir='outputs',\n",
    "        # Logging & Reporting\n",
    "        report_to='none',               #Integration with Weights & Biases ('none' disables, 'wandb' enables)\n",
    "        # Settings for Vision Fine-Tuning\n",
    "        remove_unused_columns=False,\n",
    "        dataset_text_field=\"\",\n",
    "        dataset_kwargs={\"skip_prepare_dataset\": True},\n",
    "        dataset_num_proc=8,             #CPU processes for parallel dataset processing\n",
    "        max_seq_length=256,\n",
    "        gradient_checkpointing = True,\n",
    "        # Validation Settings\n",
    "        do_eval=True,\n",
    "        eval_strategy='steps',\n",
    "        eval_steps=500,\n",
    "        load_best_model_at_end=True,\n",
    "        metric_for_best_model='eval_loss',\n",
    "        greater_is_better=False,\n",
    "        per_device_eval_batch_size=4,\n",
    "        # Save Settings\n",
    "        save_strategy='steps',\n",
    "        save_steps=500,\n",
    "        save_total_limit=2\n",
    "    )\n",
    ")"
   ]
  },
  {
   "cell_type": "code",
   "execution_count": null,
   "metadata": {},
   "outputs": [],
   "source": [
    "# @title Reset memory allocation\n",
    "import gc\n",
    "\n",
    "gc.collect()\n",
    "torch.cuda.empty_cache()\n",
    "torch.cuda.ipc_collect()\n",
    "torch.cuda.reset_max_memory_allocated()"
   ]
  },
  {
   "cell_type": "code",
   "execution_count": null,
   "metadata": {},
   "outputs": [],
   "source": [
    "print(torch.cuda.memory_summary())"
   ]
  },
  {
   "cell_type": "code",
   "execution_count": null,
   "metadata": {},
   "outputs": [],
   "source": [
    "# @title Show current memory stats\n",
    "gpu_stats = torch.cuda.get_device_properties(0)\n",
    "start_gpu_memory = round(torch.cuda.max_memory_reserved() / 1024 / 1024 / 1024, 3)\n",
    "max_memory = round(gpu_stats.total_memory / 1024 / 1024 / 1024, 3)\n",
    "print(f\"GPU = {gpu_stats.name}. Max memory = {max_memory} GB.\")\n",
    "print(f\"{start_gpu_memory} GB of memory reserved.\")"
   ]
  },
  {
   "cell_type": "code",
   "execution_count": null,
   "metadata": {},
   "outputs": [],
   "source": [
    "trainer_stats = trainer.train()"
   ]
  },
  {
   "cell_type": "code",
   "execution_count": null,
   "metadata": {},
   "outputs": [],
   "source": [
    "# @title Show final memory and time stats\n",
    "used_memory = round(torch.cuda.max_memory_reserved() / 1024 / 1024 / 1024, 3)\n",
    "used_memory_for_lora = round(used_memory - start_gpu_memory, 3)\n",
    "used_percentage = round(used_memory / max_memory * 100, 3)\n",
    "lora_percentage = round(used_memory_for_lora / max_memory * 100, 3)\n",
    "print(f\"{trainer_stats.metrics['train_runtime']} seconds used for training.\")\n",
    "print(\n",
    "    f\"{round(trainer_stats.metrics['train_runtime']/60, 2)} minutes used for training.\"\n",
    ")\n",
    "print(f\"Peak reserved memory = {used_memory} GB.\")\n",
    "print(f\"Peak reserved memory for training = {used_memory_for_lora} GB.\")\n",
    "print(f\"Peak reserved memory % of max memory = {used_percentage} %.\")\n",
    "print(f\"Peak reserved memory for training % of max memory = {lora_percentage} %.\")"
   ]
  },
  {
   "cell_type": "markdown",
   "metadata": {},
   "source": [
    "# Save the Model"
   ]
  },
  {
   "cell_type": "code",
   "execution_count": null,
   "metadata": {},
   "outputs": [],
   "source": [
    "save_repo = \"hamzamooraj99/AgriPath-Qwen2-VL-2B-LoRA16\"\n",
    "\n",
    "model.push_to_hub(save_repo)\n",
    "tokenizer.push_to_hub(save_repo)"
   ]
  },
  {
   "cell_type": "code",
   "execution_count": null,
   "metadata": {},
   "outputs": [],
   "source": [
    "# @title Reset memory allocation\n",
    "import gc\n",
    "\n",
    "gc.collect()\n",
    "torch.cuda.empty_cache()\n",
    "torch.cuda.ipc_collect()\n",
    "torch.cuda.reset_max_memory_allocated()"
   ]
  }
 ],
 "metadata": {
  "kernelspec": {
   "display_name": "unsloth_env",
   "language": "python",
   "name": "python3"
  },
  "language_info": {
   "codemirror_mode": {
    "name": "ipython",
    "version": 3
   },
   "file_extension": ".py",
   "mimetype": "text/x-python",
   "name": "python",
   "nbconvert_exporter": "python",
   "pygments_lexer": "ipython3",
   "version": "3.11.11"
  }
 },
 "nbformat": 4,
 "nbformat_minor": 2
}
